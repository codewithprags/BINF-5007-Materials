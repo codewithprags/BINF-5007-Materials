{
 "cells": [
  {
   "cell_type": "code",
   "execution_count": 1,
   "id": "d8b9a61b",
   "metadata": {},
   "outputs": [
    {
     "name": "stdout",
     "output_type": "stream",
     "text": [
      "This is my life\n"
     ]
    }
   ],
   "source": [
    "# this is a testing notebook for the purpose of this demo\n",
    "\n",
    "print(\"This is my life\")\n",
    "\n",
    "import matplotlib \n",
    "\n"
   ]
  }
 ],
 "metadata": {
  "kernelspec": {
   "display_name": "default",
   "language": "python",
   "name": "python3"
  },
  "language_info": {
   "codemirror_mode": {
    "name": "ipython",
    "version": 3
   },
   "file_extension": ".py",
   "mimetype": "text/x-python",
   "name": "python",
   "nbconvert_exporter": "python",
   "pygments_lexer": "ipython3",
   "version": "3.13.3"
  }
 },
 "nbformat": 4,
 "nbformat_minor": 5
}
