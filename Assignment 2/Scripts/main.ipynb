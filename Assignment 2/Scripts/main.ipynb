{
 "cells": [
  {
   "cell_type": "code",
   "execution_count": 1,
   "id": "cf081ad8",
   "metadata": {},
   "outputs": [],
   "source": [
    "import pandas as pd\n",
    "\"\"\"Load in the heart disease dataset from the UCI repository.\"\"\"\n",
    "data = pd.read_csv(\"D:/VSCode ProjectsRepos/BINF-5007-Materials/Assignment 2/Data/heart_disease_uci(1).csv\")\n",
    "heart_disease = data.copy()\n"
   ]
  },
  {
   "cell_type": "code",
   "execution_count": null,
   "id": "8ead149d",
   "metadata": {},
   "outputs": [],
   "source": [
    "\"\"\"Explore the dataset.\"\"\"\n",
    "# Display the first few rows of the dataset\n",
    "print(heart_disease.head())\n",
    "# Display the shape of the dataset\n",
    "print(\"Shape of the dataset:\", heart_disease.shape)\n",
    "# Display the columns of the dataset\n",
    "print(\"Columns in the dataset:\", heart_disease.columns.tolist())\n",
    "# Display the data types of each column\n",
    "print(\"Data types of each column:\\n\", heart_disease.dtypes)\n"
   ]
  },
  {
   "cell_type": "code",
   "execution_count": 3,
   "id": "18981719",
   "metadata": {},
   "outputs": [],
   "source": [
    "\"\"\"Linear Regression Model to predic cholesterol levels.\n",
    "1.Use R² and RMSE as evaluation metrics.\n",
    "2. For linear regression:\n",
    "     ■ Implement ElasticNet. Experiment with varying regularization\n",
    "       parameters (alpha and l1_ratio) and observe their effects on model\n",
    "       coefficients and performance.\n",
    "3. Create a heatmap (see documentation for seaborn.heatmap) of R2 and RMSE\n",
    "   across a range of alpha and l1_ratio. Use clear labels and a color bar to guide interpretation.\n",
    "4. Identify the top-performing configuration based on the evaluation metrics.\n",
    "\n",
    "\"\"\"\n",
    "from sklearn.linear_model import LinearRegression\n",
    "from sklearn.linear_model import ElasticNet\n",
    "from sklearn.linear_model import ElasticNetCV\n",
    "from sklearn.model_selection import train_test_split\n",
    "from sklearn.metrics import mean_squared_error, r2_score\n",
    "import seaborn as sns\n",
    "import matplotlib.pyplot as plt\n",
    "import numpy as np \n",
    "import matplotlib.pyplot as plt\n",
    "\n",
    "\n",
    "\n",
    "\n"
   ]
  },
  {
   "cell_type": "code",
   "execution_count": 3,
   "id": "1058f63c",
   "metadata": {},
   "outputs": [
    {
     "name": "stdout",
     "output_type": "stream",
     "text": [
      "_____________________Imputing Missing Values_____________________________\n",
      "_____________________Removing Redunant Features_____________________________\n",
      "               age  trestbps      chol    thalch   oldpeak        ca       num\n",
      "age       1.000000  0.243883  0.100819  0.363978  0.249074  0.186387  0.330057\n",
      "trestbps  0.243883  1.000000  0.078684  0.097426  0.149625  0.025111  0.099388\n",
      "chol      0.100819  0.078684  1.000000  0.227757  0.018049  0.055724  0.260763\n",
      "thalch    0.363978  0.097426  0.227757  1.000000  0.163270  0.175443  0.362250\n",
      "oldpeak   0.249074  0.149625  0.018049  0.163270  1.000000  0.130664  0.421718\n",
      "ca        0.186387  0.025111  0.055724  0.175443  0.130664  1.000000  0.286047\n",
      "num       0.330057  0.099388  0.260763  0.362250  0.421718  0.286047  1.000000\n",
      "Redundant Columns to Drop : set()\n",
      "_____________________Encoding and Normalizing the Data_____________________________\n"
     ]
    },
    {
     "name": "stderr",
     "output_type": "stream",
     "text": [
      "d:\\VSCode ProjectsRepos\\BINF-5007-Materials\\Assignment 2\\Scripts\\data_preprocessor2.py:83: FutureWarning: A value is trying to be set on a copy of a DataFrame or Series through chained assignment using an inplace method.\n",
      "The behavior will change in pandas 3.0. This inplace method will never work because the intermediate object on which we are setting values always behaves as a copy.\n",
      "\n",
      "For example, when doing 'df[col].method(value, inplace=True)', try using 'df.method({col: value}, inplace=True)' or df[col] = df[col].method(value) instead, to perform the operation inplace on the original object.\n",
      "\n",
      "\n",
      "  messy_data_impute[col].fillna(messy_data_impute[col].mean(), inplace=True)   #replace any missing in the column with mean of the col\n",
      "d:\\VSCode ProjectsRepos\\BINF-5007-Materials\\Assignment 2\\Scripts\\data_preprocessor2.py:89: FutureWarning: A value is trying to be set on a copy of a DataFrame or Series through chained assignment using an inplace method.\n",
      "The behavior will change in pandas 3.0. This inplace method will never work because the intermediate object on which we are setting values always behaves as a copy.\n",
      "\n",
      "For example, when doing 'df[col].method(value, inplace=True)', try using 'df.method({col: value}, inplace=True)' or df[col] = df[col].method(value) instead, to perform the operation inplace on the original object.\n",
      "\n",
      "\n",
      "  messy_data_impute[col].fillna(messy_data_impute[col].mode()[0], inplace=True)  #if the col has objects,replace any missing in the column with mode of the col\n",
      "d:\\VSCode ProjectsRepos\\BINF-5007-Materials\\Assignment 2\\Scripts\\data_preprocessor2.py:89: FutureWarning: Downcasting object dtype arrays on .fillna, .ffill, .bfill is deprecated and will change in a future version. Call result.infer_objects(copy=False) instead. To opt-in to the future behavior, set `pd.set_option('future.no_silent_downcasting', True)`\n",
      "  messy_data_impute[col].fillna(messy_data_impute[col].mode()[0], inplace=True)  #if the col has objects,replace any missing in the column with mode of the col\n"
     ]
    },
    {
     "ename": "TypeError",
     "evalue": "elastic_net_regression() missing 1 required positional argument: 'target_col'",
     "output_type": "error",
     "traceback": [
      "\u001b[31m---------------------------------------------------------------------------\u001b[39m",
      "\u001b[31mTypeError\u001b[39m                                 Traceback (most recent call last)",
      "\u001b[36mCell\u001b[39m\u001b[36m \u001b[39m\u001b[32mIn[3]\u001b[39m\u001b[32m, line 13\u001b[39m\n\u001b[32m     10\u001b[39m clean_heart_data = dp.normalize_data(clean_heart_data, target_col=\u001b[33m'\u001b[39m\u001b[33mchol\u001b[39m\u001b[33m'\u001b[39m)\n\u001b[32m     11\u001b[39m clean_heart_data.to_csv(\u001b[33m'\u001b[39m\u001b[33mD:/VSCode ProjectsRepos/BINF-5007-Materials/Assignment 2/Data/encoded_heart_disease_data.csv\u001b[39m\u001b[33m'\u001b[39m, index=\u001b[38;5;28;01mFalse\u001b[39;00m)\n\u001b[32m---> \u001b[39m\u001b[32m13\u001b[39m \u001b[43mreg_model\u001b[49m\u001b[43m.\u001b[49m\u001b[43melastic_net_regression\u001b[49m\u001b[43m(\u001b[49m\u001b[43mclean_heart_data\u001b[49m\u001b[43m)\u001b[49m\n",
      "\u001b[31mTypeError\u001b[39m: elastic_net_regression() missing 1 required positional argument: 'target_col'"
     ]
    }
   ],
   "source": [
    "\"\"\"Data Preprocessing\"\"\"\n",
    "import regression_models as reg_model\n",
    "import data_preprocessor2 as dp\n",
    "\n",
    "\n",
    "clean_heart_data = reg_model.clean_data(heart_disease)\n",
    "clean_heart_data = dp.impute_missing_values(clean_heart_data,strategy='mean',target_col='chol')\n",
    "clean_heart_data = dp.remove_outliers(clean_heart_data, target_col='chol')\n",
    "clean_heart_data = dp.remove_redundant_features(clean_heart_data)\n",
    "clean_heart_data = dp.normalize_data(clean_heart_data, target_col='chol')\n",
    "clean_heart_data.to_csv('D:/VSCode ProjectsRepos/BINF-5007-Materials/Assignment 2/Data/encoded_heart_disease_data.csv', index=False)\n",
    "\n",
    "reg_model.elastic_net_regression(clean_heart_data)\n",
    "\n",
    "\n",
    "\n"
   ]
  }
 ],
 "metadata": {
  "kernelspec": {
   "display_name": "default",
   "language": "python",
   "name": "python3"
  },
  "language_info": {
   "codemirror_mode": {
    "name": "ipython",
    "version": 3
   },
   "file_extension": ".py",
   "mimetype": "text/x-python",
   "name": "python",
   "nbconvert_exporter": "python",
   "pygments_lexer": "ipython3",
   "version": "3.13.3"
  }
 },
 "nbformat": 4,
 "nbformat_minor": 5
}
