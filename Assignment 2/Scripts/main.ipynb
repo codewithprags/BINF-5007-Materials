{
 "cells": [
  {
   "cell_type": "code",
   "execution_count": 1,
   "id": "cf081ad8",
   "metadata": {},
   "outputs": [],
   "source": [
    "import pandas as pd\n",
    "\"\"\"Load in the heart disease dataset from the UCI repository.\"\"\"\n",
    "data = pd.read_csv(\"D:/VSCode ProjectsRepos/BINF-5007-Materials/Assignment 2/Data/heart_disease_uci(1).csv\")\n",
    "heart_disease = data.copy()\n"
   ]
  },
  {
   "cell_type": "code",
   "execution_count": 2,
   "id": "8ead149d",
   "metadata": {},
   "outputs": [
    {
     "name": "stdout",
     "output_type": "stream",
     "text": [
      "   age     sex    dataset               cp  trestbps   chol    fbs  \\\n",
      "0   63    Male  Cleveland   typical angina     145.0  233.0   True   \n",
      "1   67    Male  Cleveland     asymptomatic     160.0  286.0  False   \n",
      "2   67    Male  Cleveland     asymptomatic     120.0  229.0  False   \n",
      "3   37    Male  Cleveland      non-anginal     130.0  250.0  False   \n",
      "4   41  Female  Cleveland  atypical angina     130.0  204.0  False   \n",
      "\n",
      "          restecg  thalch  exang  oldpeak        slope   ca  \\\n",
      "0  lv hypertrophy   150.0  False      2.3  downsloping  0.0   \n",
      "1  lv hypertrophy   108.0   True      1.5         flat  3.0   \n",
      "2  lv hypertrophy   129.0   True      2.6         flat  2.0   \n",
      "3          normal   187.0  False      3.5  downsloping  0.0   \n",
      "4  lv hypertrophy   172.0  False      1.4    upsloping  0.0   \n",
      "\n",
      "                thal  num  \n",
      "0       fixed defect    0  \n",
      "1             normal    2  \n",
      "2  reversable defect    1  \n",
      "3             normal    0  \n",
      "4             normal    0  \n",
      "Shape of the dataset: (920, 15)\n",
      "Columns in the dataset: ['age', 'sex', 'dataset', 'cp', 'trestbps', 'chol', 'fbs', 'restecg', 'thalch', 'exang', 'oldpeak', 'slope', 'ca', 'thal', 'num']\n",
      "Data types of each column:\n",
      " age           int64\n",
      "sex          object\n",
      "dataset      object\n",
      "cp           object\n",
      "trestbps    float64\n",
      "chol        float64\n",
      "fbs          object\n",
      "restecg      object\n",
      "thalch      float64\n",
      "exang        object\n",
      "oldpeak     float64\n",
      "slope        object\n",
      "ca          float64\n",
      "thal         object\n",
      "num           int64\n",
      "dtype: object\n"
     ]
    }
   ],
   "source": [
    "\"\"\"Explore the dataset.\"\"\"\n",
    "# Display the first few rows of the dataset\n",
    "print(heart_disease.head())\n",
    "# Display the shape of the dataset\n",
    "print(\"Shape of the dataset:\", heart_disease.shape)\n",
    "# Display the columns of the dataset\n",
    "print(\"Columns in the dataset:\", heart_disease.columns.tolist())\n",
    "# Display the data types of each column\n",
    "print(\"Data types of each column:\\n\", heart_disease.dtypes)\n"
   ]
  },
  {
   "cell_type": "code",
   "execution_count": 3,
   "id": "18981719",
   "metadata": {},
   "outputs": [],
   "source": [
    "\"\"\"Linear Regression Model to predic cholesterol levels.\n",
    "1.Use R² and RMSE as evaluation metrics.\n",
    "2. For linear regression:\n",
    "     ■ Implement ElasticNet. Experiment with varying regularization\n",
    "       parameters (alpha and l1_ratio) and observe their effects on model\n",
    "       coefficients and performance.\n",
    "3. Create a heatmap (see documentation for seaborn.heatmap) of R2 and RMSE\n",
    "   across a range of alpha and l1_ratio. Use clear labels and a color bar to guide interpretation.\n",
    "4. Identify the top-performing configuration based on the evaluation metrics.\n",
    "\n",
    "\"\"\"\n",
    "from sklearn.linear_model import LinearRegression\n",
    "from sklearn.linear_model import ElasticNet\n",
    "from sklearn.model_selection import train_test_split\n",
    "from sklearn.metrics import mean_squared_error, r2_score\n",
    "import seaborn as sns\n",
    "import matplotlib.pyplot as plt\n",
    "import numpy as np \n",
    "import matplotlib.pyplot as plt\n",
    "import regression_models as dp\n",
    "\n",
    "\n",
    "\n",
    "\n"
   ]
  },
  {
   "cell_type": "code",
   "execution_count": 4,
   "id": "1058f63c",
   "metadata": {},
   "outputs": [
    {
     "name": "stdout",
     "output_type": "stream",
     "text": [
      "Columns with more than 50% missing values: []\n",
      "No columns exceeded 50% missing threshold\n"
     ]
    }
   ],
   "source": [
    "\"\"\"Data Preprocessing\"\"\"\n",
    "clean_heart_data = dp.clean_data(heart_disease)\n",
    "# clean_heart_data = dp.remove_duplicates(clean_heart_data)\n",
    "# clean_heart_data = dp.impute_missing_values(clean_heart_data, strategy='mean')\n",
    "# clean_heart_data = dp.remove_outliers(clean_heart_data)\n",
    "# clean_heart_data = dp.normalize_data(clean_heart_data)\n",
    "# clean_heart_data = dp.remove_redundant_features(clean_heart_data)\n",
    "clean_heart_data.to_csv('D:/VSCode ProjectsRepos/BINF-5007-Materials/Assignment 2/Data/encoded_heart_disease_data.csv', index=False)"
   ]
  }
 ],
 "metadata": {
  "kernelspec": {
   "display_name": "default",
   "language": "python",
   "name": "python3"
  },
  "language_info": {
   "codemirror_mode": {
    "name": "ipython",
    "version": 3
   },
   "file_extension": ".py",
   "mimetype": "text/x-python",
   "name": "python",
   "nbconvert_exporter": "python",
   "pygments_lexer": "ipython3",
   "version": "3.13.3"
  }
 },
 "nbformat": 4,
 "nbformat_minor": 5
}
